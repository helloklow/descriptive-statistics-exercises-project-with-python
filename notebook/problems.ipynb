{
    "cells": [
        {
            "cell_type": "markdown",
            "id": "ac622319",
            "metadata": {},
            "source": [
                "# Descriptive statistics problems"
            ]
        },
        {
            "cell_type": "markdown",
            "id": "5e0ab0d5",
            "metadata": {},
            "source": [
                "### Exercise 1\n",
                "\n",
                "We will use NumPy to obtain information to describe statistically.\n",
                "\n",
                "- Generate an array of 100 elements following a normal distribution.\n",
                "- Generate an array of 100 elements following a chi-square distribution with 3 degrees of freedom.\n",
                "- Calculate the main metrics and statistical measures that best describe the two vectors."
            ]
        },
        {
            "cell_type": "code",
            "execution_count": 17,
            "id": "34720ab6",
            "metadata": {},
            "outputs": [
                {
                    "name": "stdout",
                    "output_type": "stream",
                    "text": [
                        "Normal mean: 0.013471965782822224\n",
                        "Chi-square mean: 3.0994754971277056\n",
                        "\n",
                        "Normal median: 0.023431654206764903\n",
                        "Chi-square median: 2.4409452725484266\n",
                        "\n",
                        "Normal mode: -1.593881847227232\n",
                        "Chi-square mode: 0.82647782116641\n",
                        "\n",
                        "Normal range: 4.277070718246888\n",
                        "Chi-square range: 12.005330586543101\n",
                        "\n",
                        "Normal variance: 1.1170495020460043\n",
                        "Chi-square variance: 6.432060046592648\n",
                        "\n",
                        "Normal standard deviation: 1.0569056258938185\n",
                        "Chi-square standard deviation: 2.5361506356272785\n",
                        "\n",
                        "Normal skewness: -0.07105200519463369\n",
                        "Chi-square skewness: 1.3842497202466062\n",
                        "\n",
                        "Normal kurtosis: -0.8846479944530246\n",
                        "Chi-square kurtosis: 1.8578049329839148\n",
                        "\n",
                        "Normal: [-1.59388185  0.24617066 -0.62953124  0.51852202  1.69249313 -0.11446732\n",
                        " -0.74736915  0.46544517 -0.08703621 -1.81692371 -1.29569263  1.81180772\n",
                        " -0.2526947  -0.62634368  1.43133223 -1.16781944 -0.81145874 -1.43664912\n",
                        " -0.57136763  0.10169481 -0.23406439  0.40348466  0.40335329  1.44254916\n",
                        "  1.20705472  0.9577876   0.37552465  1.81053225  1.32079546  1.13057058\n",
                        " -1.34821817  0.00595585  0.92717902  1.07015749  0.96658714 -1.18805075\n",
                        " -0.61646436 -0.11895039  0.22839234 -1.93649974 -0.60980932 -0.54876318\n",
                        "  0.14025635  0.46956632  0.11480013  0.32245199  1.60620502 -0.12460786\n",
                        "  1.0502206  -1.90562364  1.30059094  1.1599208  -1.08736728 -1.89068499\n",
                        " -0.09984209 -0.37380858 -1.04953052  0.49025868 -0.12319405  0.66790492\n",
                        " -0.14714291 -0.74246556  0.32111788 -0.04059573 -1.72192416  1.7548832\n",
                        " -1.19772946  1.43304517  0.43879413  0.71893786 -0.90975692 -1.45124318\n",
                        " -0.82701328 -1.41965167  0.10957908  1.43790978 -0.92631722  1.10554874\n",
                        "  1.49641187  0.63702275 -0.03124722 -1.30928938  0.04090745  2.34057098\n",
                        "  0.56822689 -1.45271641 -1.73807819 -1.83743544  1.60919424 -0.72705313\n",
                        "  0.83286662  0.90732977 -0.13750008  0.97882086 -0.19777096  0.95036661\n",
                        " -1.58093957 -0.12314439  0.32673181  0.42509479]\n",
                        "Chi-square: [ 0.82647782  0.37321232  3.23758378  2.9687537   1.18935544  9.55286336\n",
                        "  5.67531433  1.6494931   3.99189624  3.1766541   0.82651346  2.88855274\n",
                        "  4.27499082  8.57659903  3.08550214  0.29052137  1.36813339  1.78824599\n",
                        "  0.81042919  0.78738588  0.54984448  3.33831358  2.48388568  0.26348517\n",
                        "  1.17879544  3.39422374  1.75874276  1.76603947  4.22226497  1.75509164\n",
                        "  1.88514208  4.86443169  2.16037272  8.47670568  6.34575421  7.44271677\n",
                        "  1.76763887  0.23695315  2.5732556   2.98780199  6.16965607  0.49519929\n",
                        "  2.82806591  1.58498969  2.74363505  4.26181565  0.18541267  1.10766447\n",
                        " 12.19074326  2.88845948  1.77640012  7.05954529  0.7123278   5.01567426\n",
                        "  1.89653388  4.41196204  7.75034572  0.45631168  3.44270497  1.18141508\n",
                        "  0.6231892   3.18067614  7.06293274  6.55378849  3.14749725  4.07418217\n",
                        "  0.62563641  2.46170854  2.30264528  7.70254105  3.80672469  1.79985895\n",
                        "  1.49484219 11.8542227   2.23854891  4.09104284  0.43007198  1.16127819\n",
                        "  1.38763518  4.67051719  3.56661489  3.09843763  1.84149101  2.17437925\n",
                        "  0.73994389  1.58629619  4.0855669   1.32399936  1.86766932  1.3616247\n",
                        "  0.37070026  3.86276905  3.9214495   2.42018201  0.65529227  6.29450281\n",
                        "  6.45602842  1.57099198  1.17577376  5.95549619]\n"
                    ]
                }
            ],
            "source": [
                "import numpy as np\n",
                "import statistics as stats\n",
                "from scipy.stats import skew\n",
                "from scipy.stats import kurtosis\n",
                "\n",
                "norm = np.random.normal(size = 100)\n",
                "chi = np.random.chisquare(3, 100)\n",
                "\n",
                "# Measures of central tendency: Mean\n",
                "norm_mean = stats.mean(norm)\n",
                "print(f\"Normal mean: {norm_mean}\")\n",
                "\n",
                "chi_mean = stats.mean(chi)\n",
                "print(f\"Chi-square mean: {chi_mean}\\n\")\n",
                "\n",
                "# Measures of central tendency: Median\n",
                "norm_median = stats.median(norm)\n",
                "print(f\"Normal median: {norm_median}\")\n",
                "\n",
                "chi_median = stats.median(chi)\n",
                "print(f\"Chi-square median: {chi_median}\\n\")\n",
                "\n",
                "# Measures of central tendency: Mode\n",
                "norm_mode = stats.mode(norm)\n",
                "print(f\"Normal mode: {norm_mode}\")\n",
                "\n",
                "chi_mode = stats.mode(chi)\n",
                "print(f\"Chi-square mode: {chi_mode}\\n\")\n",
                "\n",
                "# Measures of dispersion: Range\n",
                "norm_range = max(norm) - min(norm)\n",
                "print(f\"Normal range: {norm_range}\")\n",
                "\n",
                "chi_range = max(chi) - min(chi)\n",
                "print(f\"Chi-square range: {chi_range}\\n\")\n",
                "\n",
                "# Measures of dispersion: Variance\n",
                "norm_var = stats.variance(norm)\n",
                "print(f\"Normal variance: {norm_var}\")\n",
                "\n",
                "chi_var = stats.variance(chi)\n",
                "print(f\"Chi-square variance: {chi_var}\\n\")\n",
                "\n",
                "# Measures of dispersion: Standard deviation\n",
                "norm_std = stats.stdev(norm)\n",
                "print(f\"Normal standard deviation: {norm_std}\")\n",
                "\n",
                "chi_std = stats.stdev(chi)\n",
                "print(f\"Chi-square standard deviation: {chi_std}\\n\")\n",
                "\n",
                "# Shape measures: Skewness\n",
                "norm_skew = skew(norm)\n",
                "print(f\"Normal skewness: {norm_skew}\")\n",
                "\n",
                "chi_skew = skew(chi)\n",
                "print(f\"Chi-square skewness: {chi_skew}\\n\")\n",
                "\n",
                "# Shape measures: Kurtosis\n",
                "norm_kurt = kurtosis(norm)\n",
                "print(f\"Normal kurtosis: {norm_kurt}\")\n",
                "\n",
                "chi_kurt = kurtosis(chi)\n",
                "print(f\"Chi-square kurtosis: {chi_kurt}\\n\")\n",
                "\n",
                "print(f\"Normal: {norm}\")\n",
                "print(f\"Chi-square: {chi}\")"
            ]
        },
        {
            "cell_type": "markdown",
            "id": "46c70c3d",
            "metadata": {},
            "source": [
                "### Exercise 2\n",
                "\n",
                "Write a Python program to calculate the standard deviation of the following data:\n",
                "\n",
                "```py\n",
                "data = [4, 2, 5, 8, 6]\n",
                "```"
            ]
        },
        {
            "cell_type": "code",
            "execution_count": 5,
            "id": "d590308e",
            "metadata": {},
            "outputs": [
                {
                    "name": "stdout",
                    "output_type": "stream",
                    "text": [
                        "Standard deviation of data is 2.0\n"
                    ]
                }
            ],
            "source": [
                "import numpy as np\n",
                "\n",
                "data = [4, 2, 5, 8, 6]\n",
                "sd = np.std(data)\n",
                "print(f\"Standard deviation of data is {sd}\")"
            ]
        }
    ],
    "metadata": {
        "interpreter": {
            "hash": "9248718ffe6ce6938b217e69dbcc175ea21f4c6b28a317e96c05334edae734bb"
        },
        "kernelspec": {
            "display_name": "Python 3.9.12 ('ML-BOOTCAMP')",
            "language": "python",
            "name": "python3"
        },
        "language_info": {
            "codemirror_mode": {
                "name": "ipython",
                "version": 3
            },
            "file_extension": ".py",
            "mimetype": "text/x-python",
            "name": "python",
            "nbconvert_exporter": "python",
            "pygments_lexer": "ipython3",
            "version": "3.11.4"
        }
    },
    "nbformat": 4,
    "nbformat_minor": 5
}
